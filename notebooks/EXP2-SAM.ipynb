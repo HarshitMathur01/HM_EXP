{
 "cells": [
  {
   "cell_type": "code",
   "execution_count": null,
   "id": "6d09d9a4-5502-4986-af99-3017e74c4d0f",
   "metadata": {},
   "outputs": [],
   "source": [
    "# !pip install -q git+https://github.com/huggingface/transformers.git"
   ]
  },
  {
   "cell_type": "code",
   "execution_count": null,
   "id": "8b8baa89-44b0-4f09-b064-f348c1a5375a",
   "metadata": {},
   "outputs": [],
   "source": [
    "# !pip install -q monai"
   ]
  },
  {
   "cell_type": "code",
   "execution_count": null,
   "id": "436f1eac-6d8f-4418-8132-0197bacc9a7c",
   "metadata": {},
   "outputs": [],
   "source": [
    "from glob import glob\n",
    "import torch\n",
    "import cv2\n",
    "import numpy as np\n",
    "new_images = glob(\"../data/dataset/New_dataset/Images/*.jpg\")\n",
    "new_masks = [i.replace(\"Images\" , \"Masks\") for i in new_images]\n",
    "new_masks = [j.replace(\"jpg\",\"tif\") for j in new_masks]\n",
    "\n",
    "split_idx = int(len(new_images) * 0.8)\n",
    "\n",
    "train_images, train_masks = new_images[:split_idx], new_masks[:split_idx]\n",
    "val_images, val_masks = new_images[split_idx:], new_masks[split_idx:]\n",
    "\n",
    "len(train_images), len(train_masks), len(val_images), len(val_masks)"
   ]
  },
  {
   "cell_type": "code",
   "execution_count": null,
   "id": "6de58ac6-7438-46d0-a04d-f8dfc2ea7ff7",
   "metadata": {},
   "outputs": [],
   "source": [
    "import torch\n",
    "import numpy as np\n",
    "from torchvision import transforms\n",
    "\n",
    "def augment_image_with_mask(image, mask):\n",
    "    # Convert numpy arrays to torch Tensors\n",
    "    image = torch.from_numpy(image.transpose(2, 0, 1))  # Shape to C x H x W\n",
    "    mask = torch.from_numpy(mask).unsqueeze(0)          # Shape to 1 x H x W\n",
    "    seed = np.random.randint(2147483647)\n",
    "\n",
    "    # Define the transformation pipeline (no ColorJitter for the mask)\n",
    "    spatial_transforms = transforms.Compose([\n",
    "        transforms.RandomResizedCrop(size=(256, 256), scale=(0.8, 1.2)),  # Randomly crop and resize\n",
    "        transforms.RandomHorizontalFlip(p=0.5),\n",
    "        transforms.RandomVerticalFlip(p=0.5),\n",
    "        transforms.RandomRotation(degrees=15),\n",
    "    ])\n",
    "\n",
    "    photometric_transforms = transforms.Compose([\n",
    "        transforms.ColorJitter(brightness=0.2, contrast=0.2, saturation=0.2, hue=0.1),  # Adjust brightness, contrast, etc.\n",
    "    ])\n",
    "\n",
    "    torch.manual_seed(seed)\n",
    "    image = spatial_transforms(image)\n",
    "    torch.manual_seed(seed)\n",
    "    mask = spatial_transforms(mask)\n",
    "    image = photometric_transforms(image)\n",
    "\n",
    "    # Convert back to numpy arrays\n",
    "    image_augmented = image.permute(1, 2, 0).numpy()  # Shape to H x W x C\n",
    "    mask_augmented = mask.squeeze(0).numpy()          # Shape to H x W\n",
    "\n",
    "    return image_augmented, mask_augmented\n"
   ]
  },
  {
   "cell_type": "code",
   "execution_count": null,
   "id": "8acd69c5-8936-412a-8c9f-911735e88cdd",
   "metadata": {},
   "outputs": [],
   "source": [
    "from torch.utils.data import Dataset\n",
    "\n",
    "class SAMDataset(Dataset):\n",
    "  def __init__(self, images , masks, processor ,augment_factor = 1 , building_threshold=0.15, transform = False):\n",
    "    self.images = images\n",
    "    self.masks = masks\n",
    "    self.processor = processor\n",
    "    self.augment_factor = augment_factor\n",
    "    self.building_threshold = building_threshold\n",
    "    self.valid_indices = self._filter_images()\n",
    "    self.transform = transform\n",
    "\n",
    "  def _filter_images(self):\n",
    "      valid_indices = []\n",
    "      for idx, (image_path, mask_path) in enumerate(zip(self.images, self.masks)):\n",
    "          mask = cv2.imread(mask_path, cv2.IMREAD_GRAYSCALE)\n",
    "          building_area = (mask > 0).sum() / (mask.size)  # Normalized by total number of pixels\n",
    "\n",
    "          if building_area >= self.building_threshold:\n",
    "              valid_indices.append(idx)\n",
    "\n",
    "      return valid_indices\n",
    "  \n",
    "  def __len__(self):\n",
    "      return len(self.valid_indices) * 16 * self.augment_factor\n",
    "\n",
    "  def __getitem__(self, idx):\n",
    "      effective_index = (idx // self.augment_factor) % (len(self.valid_indices) * 16)  # Ensure we stay within bounds\n",
    "      image_idx = self.valid_indices[effective_index // 16]\n",
    "      \n",
    "      image_path = self.images[image_idx]\n",
    "      mask_path = self.masks[image_idx]\n",
    "      image = cv2.cvtColor(cv2.imread(image_path), cv2.COLOR_BGR2RGB)\n",
    "      mask = cv2.imread(mask_path, cv2.IMREAD_GRAYSCALE)\n",
    "\n",
    "      patch_idx = effective_index % 16  # Get the patch index\n",
    "      x_offset = (patch_idx % 4) * 256\n",
    "      y_offset = (patch_idx // 4) * 256\n",
    "      image = image[y_offset:y_offset + 256, x_offset:x_offset + 256]\n",
    "      ground_truth_mask = mask[y_offset:y_offset + 256, x_offset:x_offset + 256]\n",
    "\n",
    "      image  = image/255\n",
    "      image = image.astype(np.float32)\n",
    "      if self.transform:\n",
    "            image, ground_truth_mask = augment_image_with_mask(image, ground_truth_mask)\n",
    "          \n",
    "      # prepare image and prompt for the model\n",
    "      inputs = self.processor(image, input_boxes=[[[0,0,0,0]]], return_tensors=\"pt\")\n",
    "\n",
    "      # remove batch dimension which the processor adds by default\n",
    "      inputs = {k:v.squeeze(0) for k,v in inputs.items()}\n",
    "\n",
    "      # add ground truth segmentation\n",
    "      inputs[\"ground_truth_mask\"] = (ground_truth_mask>0).astype(int)\n",
    "      inputs[\"image_patch\"] = image\n",
    "      return inputs\n"
   ]
  },
  {
   "cell_type": "code",
   "execution_count": null,
   "id": "ea6b55d2-b72c-43c2-8be7-812ff4cb8392",
   "metadata": {},
   "outputs": [],
   "source": [
    "from transformers import SamProcessor\n",
    "\n",
    "processor = SamProcessor.from_pretrained(\"facebook/sam-vit-base\")"
   ]
  },
  {
   "cell_type": "code",
   "execution_count": null,
   "id": "f78799f5-93f4-4195-b810-e4f5421e00f4",
   "metadata": {},
   "outputs": [],
   "source": [
    "train_dataset = SAMDataset(train_images , train_masks, processor=processor ,transform = False )\n",
    "val_dataset = SAMDataset(val_images , val_masks, processor=processor, transform = False )\n",
    "len(train_dataset) , len(val_dataset)"
   ]
  },
  {
   "cell_type": "code",
   "execution_count": null,
   "id": "96653322-dc41-43f5-8c20-480c364a868e",
   "metadata": {},
   "outputs": [],
   "source": [
    "train_dataset[1]['pixel_values'].shape, train_dataset[1]['ground_truth_mask'].shape, train_dataset[1]['image_patch'].shape "
   ]
  },
  {
   "cell_type": "code",
   "execution_count": null,
   "id": "3ff2c3e5-eb61-42c7-b2e7-75742900587a",
   "metadata": {},
   "outputs": [],
   "source": [
    "import matplotlib.pyplot as plt\n",
    "idx = 555\n",
    "fig, axs = plt.subplots(1, 2, figsize=(10, 5))\n",
    "\n",
    "axs[0].imshow(train_dataset[idx]['image_patch'])\n",
    "axs[1].imshow(train_dataset[idx]['ground_truth_mask'])"
   ]
  },
  {
   "cell_type": "code",
   "execution_count": null,
   "id": "eb793706-8eae-46c1-9517-372798dff942",
   "metadata": {},
   "outputs": [],
   "source": [
    "example = train_dataset[0]\n",
    "for k,v in example.items():\n",
    "  print(k,v.shape)"
   ]
  },
  {
   "cell_type": "code",
   "execution_count": null,
   "id": "fdcd1f9f-e7d7-46f4-bc07-2492c16bad32",
   "metadata": {},
   "outputs": [],
   "source": [
    "from torch.utils.data import DataLoader\n",
    "train_dataloader = DataLoader(train_dataset, batch_size=4, shuffle=True)\n",
    "val_dataloader = DataLoader(val_dataset, batch_size=4, shuffle=False)\n",
    "len(train_dataloader) , len(val_dataloader)"
   ]
  },
  {
   "cell_type": "code",
   "execution_count": null,
   "id": "61624520-d14b-43b0-b8a5-b1de24b45ce0",
   "metadata": {},
   "outputs": [],
   "source": [
    "batch = next(iter(train_dataloader))\n",
    "for k,v in batch.items():\n",
    "  print(k,v.shape)"
   ]
  },
  {
   "cell_type": "code",
   "execution_count": null,
   "id": "53fc6254-b7da-4e34-a29e-928fffe51f2e",
   "metadata": {},
   "outputs": [],
   "source": [
    "from transformers import SamModel \n",
    "from torch.optim import AdamW\n",
    "import monai\n",
    "\n",
    "model = SamModel.from_pretrained(\"facebook/sam-vit-base\")\n",
    "# make sure we only compute gradients for mask decoder\n",
    "for name, param in model.named_parameters():\n",
    "  if name.startswith(\"vision_encoder\") or name.startswith(\"prompt_encoder\"):\n",
    "    param.requires_grad_(False)\n",
    "  elif name.startswith(\"mask_decoder\"):\n",
    "        param.requires_grad = True\n",
    "\n",
    "optimizer = AdamW(model.mask_decoder.parameters(), lr=0.0001)\n",
    "seg_loss = torch.nn.BCEWithLogitsLoss()\n",
    "seg_loss1 = monai.losses.DiceCELoss(sigmoid=True, squared_pred=True, reduction='mean')"
   ]
  },
  {
   "cell_type": "code",
   "execution_count": null,
   "id": "4b4fd9ee-ee94-4abc-a91f-652b11684e1f",
   "metadata": {},
   "outputs": [],
   "source": [
    "import torch\n",
    "import gc\n",
    "gc.collect()  # Collect garbage\n",
    "torch.cuda.empty_cache()  # Free up unused GPU memory"
   ]
  },
  {
   "cell_type": "code",
   "execution_count": null,
   "id": "7ae1d717-0208-4b39-befc-cd509a3db6e0",
   "metadata": {},
   "outputs": [],
   "source": [
    "for batch in train_dataloader:\n",
    "    break"
   ]
  },
  {
   "cell_type": "code",
   "execution_count": null,
   "id": "7b403c11-8809-412a-9b4f-582de223715c",
   "metadata": {},
   "outputs": [],
   "source": [
    "for k,v in batch.items():\n",
    "  print(k,v.shape)"
   ]
  },
  {
   "cell_type": "code",
   "execution_count": null,
   "id": "2a6aec52-ff5e-4034-bc1b-cde5a500f44b",
   "metadata": {},
   "outputs": [],
   "source": [
    "from tqdm import tqdm\n",
    "from statistics import mean\n",
    "import torch\n",
    "from torch.nn.functional import threshold, normalize\n",
    "\n",
    "num_epochs = 20\n",
    "\n",
    "device = \"cuda\" if torch.cuda.is_available() else \"cpu\"\n",
    "model.to(device)\n",
    "\n",
    "for epoch in range(num_epochs):\n",
    "    # Training phase\n",
    "    model.train()\n",
    "    epoch_losses = []\n",
    "    for batch in tqdm(train_dataloader, desc=f\"Training Epoch {epoch + 1}/{num_epochs}\"):\n",
    "        # Forward pass\n",
    "        outputs = model(pixel_values=batch[\"pixel_values\"].to(device),\n",
    "                        input_boxes=batch[\"input_boxes\"].to(device),\n",
    "                        multimask_output=False)\n",
    "\n",
    "        # Compute loss\n",
    "        predicted_masks = outputs.pred_masks.squeeze(1)\n",
    "        ground_truth_masks = batch[\"ground_truth_mask\"].float().to(device)\n",
    "        loss = seg_loss(predicted_masks, ground_truth_masks.unsqueeze(1))\n",
    "\n",
    "        # Backward pass and optimization\n",
    "        optimizer.zero_grad()\n",
    "        loss.backward()\n",
    "        optimizer.step()\n",
    "\n",
    "        # Record loss\n",
    "        epoch_losses.append(loss.item())\n",
    "        \n",
    "    # Calculate and print average training loss for the epoch\n",
    "    avg_train_loss = mean(epoch_losses)\n",
    "    print(f'EPOCH {epoch + 1}:')\n",
    "    print(f'Mean Training Loss: {avg_train_loss}')\n",
    "    \n",
    "    # Validation phase\n",
    "    model.eval()\n",
    "    val_losses = []\n",
    "    with torch.no_grad():  # No gradients needed for validation\n",
    "        for batch in tqdm(val_dataloader, desc=f\"Validation Epoch {epoch + 1}/{num_epochs}\"):\n",
    "            # Forward pass\n",
    "            outputs = model(pixel_values=batch[\"pixel_values\"].to(device),\n",
    "                            input_boxes=batch[\"input_boxes\"].to(device),\n",
    "                            multimask_output=False)\n",
    "\n",
    "            # Compute loss\n",
    "            predicted_masks = outputs.pred_masks.squeeze(1)\n",
    "            ground_truth_masks = batch[\"ground_truth_mask\"].float().to(device)\n",
    "            val_loss = seg_loss(predicted_masks, ground_truth_masks.unsqueeze(1))\n",
    "            \n",
    "            # Record validation loss\n",
    "            val_losses.append(val_loss.item())\n",
    "\n",
    "    # Calculate and print average validation loss for the epoch\n",
    "    avg_val_loss = mean(val_losses)\n",
    "    print(f'Mean Validation Loss: {avg_val_loss}')\n"
   ]
  },
  {
   "cell_type": "code",
   "execution_count": null,
   "id": "b1de3dac-77c0-4cff-8cce-e15816119277",
   "metadata": {},
   "outputs": [],
   "source": [
    "outputs"
   ]
  },
  {
   "cell_type": "code",
   "execution_count": null,
   "id": "cd7d3305-4137-42e0-bd3a-9fa2316eb3fb",
   "metadata": {},
   "outputs": [],
   "source": [
    "ground_truth_masks"
   ]
  },
  {
   "cell_type": "code",
   "execution_count": null,
   "id": "b8ac491f-cb74-45bc-9c91-584e35f7c144",
   "metadata": {},
   "outputs": [],
   "source": []
  },
  {
   "cell_type": "code",
   "execution_count": null,
   "id": "5296f3db-bda9-423e-b64d-f5937e8c4586",
   "metadata": {},
   "outputs": [],
   "source": []
  }
 ],
 "metadata": {
  "kernelspec": {
   "display_name": "Python 3 (ipykernel)",
   "language": "python",
   "name": "python3"
  },
  "language_info": {
   "codemirror_mode": {
    "name": "ipython",
    "version": 3
   },
   "file_extension": ".py",
   "mimetype": "text/x-python",
   "name": "python",
   "nbconvert_exporter": "python",
   "pygments_lexer": "ipython3",
   "version": "3.10.14"
  }
 },
 "nbformat": 4,
 "nbformat_minor": 5
}
